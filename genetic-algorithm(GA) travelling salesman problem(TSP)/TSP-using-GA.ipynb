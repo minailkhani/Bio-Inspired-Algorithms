{
 "cells": [
  {
   "cell_type": "markdown",
   "metadata": {},
   "source": [
    "initializing parameters. I'll explain why i chosed these values"
   ]
  },
  {
   "cell_type": "code",
   "execution_count": 1,
   "metadata": {},
   "outputs": [],
   "source": [
    "import time\n",
    "s = time.perf_counter()\n",
    "import random\n",
    "\n",
    "firstPopulationNum = 6000 \n",
    "populationNum = 2000 \n",
    "PMutation = 0.035\n",
    "PRep = 0.06\n",
    "iterations = 100\n",
    "t = 3"
   ]
  },
  {
   "cell_type": "markdown",
   "metadata": {},
   "source": [
    "read file"
   ]
  },
  {
   "cell_type": "code",
   "execution_count": 2,
   "metadata": {},
   "outputs": [],
   "source": [
    "\n",
    "bayg29 = open('bayg29.tsp', 'r')\n",
    "for i in range (3):\n",
    "    bayg29.readline()\n",
    "\n",
    "numOfCities = int(bayg29.readline().strip().split()[1])\n",
    "\n",
    "for i in range (4):\n",
    "    bayg29.readline()\n",
    "\n",
    "weightedVertices = []\n",
    "for i in range(numOfCities -1):\n",
    "     weightedVertices.append(list(map(int,(bayg29.readline().strip().split()[0:]))))\n",
    "\n",
    "bayg29.close()"
   ]
  },
  {
   "cell_type": "markdown",
   "metadata": {},
   "source": [
    "class for Chromosome(Routes)"
   ]
  },
  {
   "cell_type": "code",
   "execution_count": 3,
   "metadata": {},
   "outputs": [],
   "source": [
    "class Route():\n",
    "    def __init__(self):\n",
    "        self.holeDistance = 0 # fitness - The shorter the distance the more fitness!\n",
    "        self.path = []\n",
    "\n",
    "    def distance(self,cityIndex):\n",
    "        if self.path[cityIndex]<self.path[cityIndex+1]:\n",
    "           return weightedVertices [self.path[cityIndex]]  [self.path[cityIndex+1] - self.path[cityIndex] -1 ]\n",
    "        else:\n",
    "           return weightedVertices[self.path[cityIndex+1]] [self.path[cityIndex] - self.path[cityIndex+1] -1 ]\n",
    "\n",
    "    def hole_distance(self):\n",
    "        self.holeDistance = 0\n",
    "        for i in range(len(self.path)-1):\n",
    "            self.holeDistance+= self.distance(i)\n",
    "\n",
    "class FirstRoute(Route) :\n",
    "    def __init__(self) :\n",
    "        Route.__init__(self)\n",
    "        self.path = random.sample(list(range(numOfCities)), numOfCities)"
   ]
  },
  {
   "cell_type": "code",
   "execution_count": 4,
   "metadata": {},
   "outputs": [],
   "source": [
    "def best(l):\n",
    "    ans = l[0]\n",
    "    for r in l:\n",
    "        if r.holeDistance<ans.holeDistance:\n",
    "            ans = r\n",
    "    return ans\n",
    "\n",
    "def average(l):\n",
    "    sum = 0\n",
    "    for r in l:\n",
    "        sum+=r.holeDistance\n",
    "    return sum/(len(l))\n",
    "\n",
    "def worst(l):\n",
    "    ans = l[0]\n",
    "    for r in l:\n",
    "        if r.holeDistance>ans.holeDistance:\n",
    "            ans = r\n",
    "    return ans\n",
    "\n",
    "def index_of_worst(l):\n",
    "    ans = 0\n",
    "    for i in range(len(l)):\n",
    "        if l[i].holeDistance>l[ans].holeDistance:\n",
    "            ans = i\n",
    "    return ans\n"
   ]
  },
  {
   "cell_type": "code",
   "execution_count": 5,
   "metadata": {},
   "outputs": [],
   "source": [
    "def tournament_selection(Population, m, k): #m times choose k element and return the best of k choosen element(m elements)\n",
    "    def tournament(Population, k):\n",
    "        index = random.sample(list(range(len(Population))), k)\n",
    "        l = []\n",
    "        for i in index:\n",
    "            l.append(Population[i])\n",
    "        return best(l)\n",
    "\n",
    "    newPopulation = []\n",
    "    for ـ in range(m):\n",
    "        newPopulation.append(tournament(Population, k))\n",
    "\n",
    "    return newPopulation"
   ]
  },
  {
   "cell_type": "markdown",
   "metadata": {},
   "source": [
    "I used Cycle_Recombination and Order_recombination to recombine. But in several experiments, the former performed better than the latter. I did not use the latter"
   ]
  },
  {
   "cell_type": "code",
   "execution_count": 6,
   "metadata": {},
   "outputs": [],
   "source": [
    "def Cycle_Recombination(parents):\n",
    "    def get_groups(parent1,parent2):\n",
    "        def sorted_union(nestedList):\n",
    "            newList = []\n",
    "            for list in nestedList:\n",
    "                newList += list\n",
    "            newList.sort()\n",
    "            return newList\n",
    "\n",
    "        def smallest_index_which_is_not_in_list(list):\n",
    "            if list :\n",
    "                for i in range (len(list)+1):\n",
    "                    if i not in list:\n",
    "                        return i\n",
    "            else:\n",
    "                return 0\n",
    "\n",
    "        def recombination(groups):\n",
    "            l = [-1 for _ in range(numOfCities)]\n",
    "            mainParent = parent1\n",
    "            for group in groups:\n",
    "                for i in group:\n",
    "                    l[i] = mainParent[i]\n",
    "                mainParent = parent1 if mainParent == parent2 else parent2\n",
    "            ans = Route()\n",
    "            ans.path = l\n",
    "            return ans\n",
    "\n",
    "        lO = []\n",
    "        while len(sorted_union(lO)) != len(parent1) :\n",
    "            startPoint = smallest_index_which_is_not_in_list(sorted_union(lO))\n",
    "            lI = []\n",
    "            while True:\n",
    "                lI.append(startPoint)\n",
    "                city2 = parent2[startPoint]\n",
    "                for i,city1 in enumerate(parent1):\n",
    "                    if city1 == city2:\n",
    "                        startPoint = i\n",
    "                        break\n",
    "                    \n",
    "                if startPoint in lI :\n",
    "                    lO.append(lI)\n",
    "                    break        \n",
    "\n",
    "        return recombination(lO)\n",
    "\n",
    "    \n",
    "    children = []\n",
    "    for _ in range(len(parents)):\n",
    "        i=random.randint(0,numOfCities)\n",
    "        children.append(get_groups(parents[i].path, parents[i+1].path))\n",
    "    return children"
   ]
  },
  {
   "cell_type": "code",
   "execution_count": 7,
   "metadata": {},
   "outputs": [],
   "source": [
    "def Order_recombination(parents):\n",
    "    def recombination(parent1, parent2):\n",
    "        def get_start_end():\n",
    "            a = random.sample(list(range(numOfCities)),2 )\n",
    "            a.sort()\n",
    "            return a\n",
    "        \n",
    "        l = [-1 for _ in range(numOfCities)]\n",
    "        startPoint, endPoint = get_start_end()\n",
    "        for i in range(startPoint, endPoint+1):\n",
    "                l[i]=parent1[i]\n",
    "\n",
    "        j = endPoint+1 if endPoint != numOfCities-1 else 0 \n",
    "\n",
    "        for i in range(endPoint+1, numOfCities):\n",
    "            while parent2[j] in l:\n",
    "                j+=1\n",
    "                if j==numOfCities:\n",
    "                    j = 0\n",
    "            l[i]=parent2[j]\n",
    "            j+=1\n",
    "            if j==numOfCities:\n",
    "                    j = 0\n",
    "\n",
    "        for i in range(startPoint):\n",
    "            while parent2[j] in l:\n",
    "                j+=1\n",
    "                if j==numOfCities:\n",
    "                    j = 0\n",
    "            l[i]=parent2[j]\n",
    "            j+=1\n",
    "            if j==numOfCities:\n",
    "                    j = 0\n",
    "        return l\n",
    "    \n",
    "    children = Route()\n",
    "    for i in range(0,len(parents),2):\n",
    "        children.path.append(recombination(parents[i].path, parents[i+1].path))\n",
    "    return children"
   ]
  },
  {
   "cell_type": "code",
   "execution_count": 8,
   "metadata": {},
   "outputs": [],
   "source": [
    "def swap_mutation(population, PMutation):\n",
    "    def mutation(city):\n",
    "        i = random.randint(0,numOfCities-1)\n",
    "        j = random.randint(0,numOfCities-1)\n",
    "        temp = city.path[i]\n",
    "        city.path[i] = city.path[j]\n",
    "        city.path[j] = temp\n",
    "        return city\n",
    "\n",
    "    for _ in range(int(len(population)*PMutation)):\n",
    "        i = random.randint(0,len(population)-1)\n",
    "        population[i] = mutation(population[i])\n",
    "    return population\n"
   ]
  },
  {
   "cell_type": "markdown",
   "metadata": {},
   "source": [
    "Generational replacement algorithms usually work better for solving genetic problems"
   ]
  },
  {
   "cell_type": "code",
   "execution_count": 9,
   "metadata": {},
   "outputs": [],
   "source": [
    "def generational_replacement(parents,chidren, PRep):\n",
    "    for _ in range (int(populationNum*PRep)):\n",
    "        indexOfWorst = index_of_worst(parents)\n",
    "        parents[indexOfWorst] = best(chidren)\n",
    "        chidren.remove(best(chidren))\n",
    "    return parents"
   ]
  },
  {
   "cell_type": "code",
   "execution_count": 10,
   "metadata": {},
   "outputs": [],
   "source": [
    "def stop(iterator, best) :\n",
    "    if iterator == iterations or best.holeDistance <= 1600 :\n",
    "        return True\n",
    "    return False"
   ]
  },
  {
   "cell_type": "code",
   "execution_count": 11,
   "metadata": {},
   "outputs": [],
   "source": [
    "firstPopulation = [FirstRoute() for _ in range(firstPopulationNum)]  #step1: create first population\n",
    "\n",
    "for i in firstPopulation:                                     #step2: calculate first population fitness\n",
    "    i.hole_distance()"
   ]
  },
  {
   "cell_type": "code",
   "execution_count": 12,
   "metadata": {},
   "outputs": [
    {
     "name": "stdout",
     "output_type": "stream",
     "text": [
      "answer is: 1751 [10, 21, 16, 13, 17, 14, 24, 6, 22, 12, 9, 19, 28, 2, 25, 4, 8, 11, 5, 27, 0, 20, 1, 3, 18, 15, 23, 26, 7]\n"
     ]
    }
   ],
   "source": [
    "iterator = 0\n",
    "parents = firstPopulation\n",
    "bestIter = []\n",
    "aveIter = []\n",
    "worsIter = []\n",
    "while not stop(iterator, best(parents)) :                     #step8: stop check \n",
    "    \n",
    "    bestIter.append(best(parents).holeDistance)\n",
    "    aveIter.append(average(parents))\n",
    "    worsIter.append(worst(parents).holeDistance)\n",
    "          \n",
    "    parents = tournament_selection(parents, populationNum, t) #step3: select\n",
    "\n",
    "    children = Cycle_Recombination(parents)                   #step4: recombination\n",
    "    # print(len(children))\n",
    "    children = swap_mutation(children,PMutation)              #step5: mutation\n",
    "    \n",
    "    for city in children:                                     #step6: calculate fitness\n",
    "        city.hole_distance()\n",
    "\n",
    "    parents = generational_replacement(parents, children, PRep)#step7: replacement \n",
    "    iterator+=1\n",
    "print(\"answer is:\",best(parents).holeDistance, best(parents).path)\n"
   ]
  },
  {
   "cell_type": "code",
   "execution_count": 13,
   "metadata": {},
   "outputs": [
    {
     "data": {
      "image/png": "[encoded data removed]",
      "text/plain": [
       "<Figure size 1080x576 with 1 Axes>"
      ]
     },
     "metadata": {
      "needs_background": "light"
     },
     "output_type": "display_data"
    },
    {
     "name": "stdout",
     "output_type": "stream",
     "text": [
      "it takes 34.448722040000575 seconds\n"
     ]
    }
   ],
   "source": [
    "import numpy as np\n",
    "import matplotlib.pyplot as plt\n",
    "\n",
    "barWidth = 0.3\n",
    "fig = plt.subplots(figsize =(15, 8))\n",
    " \n",
    "br1 = np.arange(len(bestIter))\n",
    "br2 = [x + barWidth for x in br1]\n",
    "br3 = [x + barWidth for x in br2]\n",
    " \n",
    "# Make the plot\n",
    "plt.bar(br1, bestIter, color ='r', width = barWidth, label ='bestIter')\n",
    "plt.bar(br2, aveIter, color ='g', width = barWidth, label ='aveIter')\n",
    "plt.bar(br3, worsIter, color ='b', width = barWidth, label ='worsIter')\n",
    " \n",
    "# Adding Xticks\n",
    "plt.xlabel('generations', fontsize = 15)\n",
    "plt.ylabel('Distance', fontsize = 15)\n",
    "\n",
    "plt.legend()\n",
    "plt.show()\n",
    "print(\"it takes\",time.perf_counter()-s,\"seconds\")"
   ]
  },
  {
   "cell_type": "markdown",
   "metadata": {},
   "source": [
    "Select parameters:\n",
    "\n",
    "I considered the initial population large to have a lot of variety. But I reduced the main population to the point where it does not converge quickly and is diverse so that the algorithm does not slow down.\n",
    "\n",
    "The mutation well prevented rapid convergence. But when I made the mutation higher than it is now, there was a divergence. 100 repetitions are enough, and out of the 20 times I ran the code, usually between the 80th and 100th repetitions, the answers converged to about 1800.\n",
    "\n",
    "Of course, these parameters are not independent.\n",
    " For example, when I subtracted the initial population and the main population (about 200), I reached the answer with a very high number of repetitions"
   ]
  }
 ],
 "metadata": {
  "interpreter": {
   "hash": "31f2aee4e71d21fbe5cf8b01ff0e069b9275f58929596ceb00d14d90e3e16cd6"
  },
  "kernelspec": {
   "display_name": "Python 3 (ipykernel)",
   "language": "python",
   "name": "python3"
  },
  "language_info": {
   "codemirror_mode": {
    "name": "ipython",
    "version": 3
   },
   "file_extension": ".py",
   "mimetype": "text/x-python",
   "name": "python",
   "nbconvert_exporter": "python",
   "pygments_lexer": "ipython3",
   "version": "3.8.10"
  }
 },
 "nbformat": 4,
 "nbformat_minor": 2
}
