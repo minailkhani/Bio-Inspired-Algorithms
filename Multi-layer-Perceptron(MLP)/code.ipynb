{
 "cells": [
  {
   "cell_type": "markdown",
   "metadata": {},
   "source": [
    "first read train and test"
   ]
  },
  {
   "cell_type": "code",
   "execution_count": 1,
   "metadata": {},
   "outputs": [],
   "source": [
    "import numpy as np\n",
    "\n",
    "def readfile(fileName):\n",
    "    X = []\n",
    "    T = []\n",
    "    file = open(fileName, 'r')\n",
    "    line = file.readline().split()\n",
    "    while len(line):\n",
    "        X.append([float(line[0]), float(line[1])])\n",
    "        T.append(int(line[2]))   \n",
    "        line = file.readline().split()\n",
    "    return np.array(X), np.array(T)\n",
    "\n",
    "trainX, trainT = readfile('train')\n",
    "testX , testT = readfile('test')\n"
   ]
  },
  {
   "cell_type": "markdown",
   "metadata": {},
   "source": [
    "visualizing training dataset"
   ]
  },
  {
   "cell_type": "code",
   "execution_count": 2,
   "metadata": {},
   "outputs": [
    {
     "data": {
      "image/png": "[encoded data removed]",
      "text/plain": [
       "<Figure size 432x288 with 1 Axes>"
      ]
     },
     "metadata": {
      "needs_background": "light"
     },
     "output_type": "display_data"
    }
   ],
   "source": [
    "import matplotlib.pylab as plt\n",
    "for i in range (len(trainT)):\n",
    "    if trainT[i] == 0:\n",
    "        plt.scatter(trainX[i][0],trainX[i][1],s=0.3, color =\"black\")\n",
    "    elif trainT[i] == 1:\n",
    "        plt.scatter(trainX[i][0],trainX[i][1],s=0.3, color =\"red\")\n",
    "\n",
    "plt.title(\"training dataset\")\n",
    "plt.show()"
   ]
  },
  {
   "cell_type": "code",
   "execution_count": 3,
   "metadata": {},
   "outputs": [],
   "source": [
    "from scipy.special import expit #calculate sigmoid function\n",
    "def derivative_sigmoid(x):\n",
    "    return x * (1-x)"
   ]
  },
  {
   "cell_type": "markdown",
   "metadata": {},
   "source": [
    "there are 2 neurons in input layer and 1 neuron in output layer.\n",
    "\n",
    "i tried 1 layer but it didn't work as well as we need. so i used more layers and more neurons in each layer\n",
    "in input layer and hidden layers there is a bios\n",
    "\n",
    "adding more layers didn't help(coused worse ans)\n",
    "\n",
    "\n",
    "\n",
    "step0: choose random val for weights"
   ]
  },
  {
   "cell_type": "code",
   "execution_count": 4,
   "metadata": {},
   "outputs": [],
   "source": [
    "import random\n",
    "neurins = [2, 2, 2, 2 ,1]\n",
    "\n",
    "w = [np.random.rand(neurins[i], neurins[i + 1]) for i in range(len(neurins) - 1) ]\n",
    "weights = w\n",
    "\n",
    "d = [np.zeros((neurins[i], neurins[i + 1])) for i in range(len(neurins) - 1) ]\n",
    "derivative = d\n",
    "\n",
    "a = [np.zeros(neurins[i]) for i in range(len(neurins)) ]\n",
    "active = a\n"
   ]
  },
  {
   "cell_type": "markdown",
   "metadata": {},
   "source": [
    "step3:send signal to neurons in the hidden layer\n",
    "\n",
    "step4:calculate input of hidden layers & active func\n",
    "\n",
    "step5:calculate input of output layers & active func\n",
    "\n",
    "step6: calculate delta\n",
    "\n",
    "step7: updating weights"
   ]
  },
  {
   "cell_type": "code",
   "execution_count": 5,
   "metadata": {},
   "outputs": [],
   "source": [
    "\n",
    "def forward_propagate(X):\n",
    "    active[0] = X\n",
    "    for x1, x2 in enumerate(weights):\n",
    "        net_X = np.dot(X, x2)\n",
    "        X = expit(net_X)\n",
    "        active[x1 + 1] = X\n",
    "    return active[x1 + 1]\n",
    "\n",
    "def back_propagate(delta):\n",
    "    for i in (range(len(derivative)-1,-1,-1)):\n",
    "        delta *= derivative_sigmoid(active[i+1])\n",
    "        curr=active[i].reshape(active[i].shape[0],-1)\n",
    "        derivative[i] = np.dot(curr, delta.reshape(delta.shape[0], -1).T)\n",
    "        delta = np.dot(delta, weights[i].T)\n",
    "\n",
    "def gradient_descent():\n",
    "    for i in range(len(weights)):\n",
    "        w = weights[i]\n",
    "        w += derivative[i] * random.uniform(0, 1)"
   ]
  },
  {
   "cell_type": "code",
   "execution_count": 6,
   "metadata": {},
   "outputs": [],
   "source": [
    "def accuracy():\n",
    "    a = 0\n",
    "    for i in range(len(testT)):\n",
    "        if  forward_propagate(np.array(testX[i]))[0] <0.5:\n",
    "            ans = 0\n",
    "        else :\n",
    "            ans = 1\n",
    "        if testT[i] == ans :\n",
    "            a+=1\n",
    "    return a"
   ]
  },
  {
   "cell_type": "markdown",
   "metadata": {},
   "source": [
    "step1:do step 2 to 9 until the stop conditions are met\n",
    "\n",
    "step2:do step 3 to 8 until the stop conditions are met\n",
    "\n"
   ]
  },
  {
   "cell_type": "code",
   "execution_count": 7,
   "metadata": {},
   "outputs": [
    {
     "name": "stdout",
     "output_type": "stream",
     "text": [
      "accuracy: 94.0 %\n"
     ]
    }
   ],
   "source": [
    "l = []\n",
    "for _ in range (100):\n",
    "     for j, input in enumerate(trainX):\n",
    "          back_propagate(trainT[j] - forward_propagate(input))\n",
    "          gradient_descent()\n",
    "     l.append(accuracy())\n",
    "print(\"accuracy:\",max(l)/10,\"%\")\n"
   ]
  },
  {
   "cell_type": "code",
   "execution_count": null,
   "metadata": {},
   "outputs": [],
   "source": []
  }
 ],
 "metadata": {
  "interpreter": {
   "hash": "31f2aee4e71d21fbe5cf8b01ff0e069b9275f58929596ceb00d14d90e3e16cd6"
  },
  "kernelspec": {
   "display_name": "Python 3 (ipykernel)",
   "language": "python",
   "name": "python3"
  },
  "language_info": {
   "codemirror_mode": {
    "name": "ipython",
    "version": 3
   },
   "file_extension": ".py",
   "mimetype": "text/x-python",
   "name": "python",
   "nbconvert_exporter": "python",
   "pygments_lexer": "ipython3",
   "version": "3.8.10"
  }
 },
 "nbformat": 4,
 "nbformat_minor": 2
}
