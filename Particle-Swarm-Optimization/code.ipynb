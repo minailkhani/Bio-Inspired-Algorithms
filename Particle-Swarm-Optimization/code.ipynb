{
 "cells": [
  {
   "cell_type": "markdown",
   "metadata": {},
   "source": [
    "mina ilkhani 610398191\n",
    "\n",
    "HW5 PSO\n",
    "\n",
    "import all we need for solving and visualizing:"
   ]
  },
  {
   "cell_type": "code",
   "execution_count": 1,
   "metadata": {},
   "outputs": [],
   "source": [
    "import numpy as np\n",
    "import random\n",
    "import math\n",
    "\n",
    "import matplotlib.pyplot as plt"
   ]
  },
  {
   "cell_type": "markdown",
   "metadata": {},
   "source": [
    "problem:"
   ]
  },
  {
   "cell_type": "code",
   "execution_count": 2,
   "metadata": {},
   "outputs": [],
   "source": [
    "XYMaxF = 10\n",
    "XYMinF = -10\n",
    "def f(x,y):\n",
    "    return  abs( math.sin(x) * math.cos(y) * math.exp( abs( 1 - ( (math.sqrt( pow(x,2) + pow(y,2) ) ) / math.pi ) ) ) )\n",
    "\n",
    "XYMaxG = 100\n",
    "XYMinG = -100\n",
    "def g(x,y):\n",
    "    if x == 0 or math.cos(y/x) == -1:\n",
    "        # return math.inf  #make problme for ploting. \n",
    "        return 41000       #if it be a very large number it would not look well\n",
    "    return x * math.sin( math.pi * math.cos(x) * math.tan(y))  *  (math.sin(y/x)) / (1 + math.cos(y/x))"
   ]
  },
  {
   "cell_type": "markdown",
   "metadata": {},
   "source": [
    "visualizing:"
   ]
  },
  {
   "cell_type": "code",
   "execution_count": 3,
   "metadata": {},
   "outputs": [],
   "source": [
    "def point_visualizing(swarm,func,i) :\n",
    "    xdata = []\n",
    "    ydata = []\n",
    "    zdata = []\n",
    "    for p in swarm:\n",
    "        xdata.append(p.currX[0])\n",
    "        ydata.append(p.currX[1])\n",
    "        zdata.append(func(p.currX[0],p.currX[1]))\n",
    "    \n",
    "    ax = plt.axes(projection='3d')\n",
    "    ax.scatter3D(xdata, ydata, zdata, c=zdata, cmap='viridis')\n",
    "    plt.savefig('pic/'+func.__name__+str(i)+'.png')              #saving\n",
    "                                                                   #very slow\n",
    "    \n",
    "def continuous_visualizing(func,maxX,minX,maxY,minY ):\n",
    "    xdata = []\n",
    "    ydata = []\n",
    "    zdata = []\n",
    "\n",
    "    for i in list(np.arange(minX,maxX,1/2)):\n",
    "        for j in list(np.arange(minY,maxY,1/2)):\n",
    "            xdata.append(i)\n",
    "            ydata.append(j)\n",
    "    for i in range(len(xdata)):\n",
    "        zdata.append(func(xdata[i],ydata[i]))\n",
    "\n",
    "    ax = plt.axes(projection='3d')\n",
    "    ax.plot_trisurf(xdata, ydata, zdata, cmap='viridis')\n",
    "    "
   ]
  },
  {
   "cell_type": "markdown",
   "metadata": {},
   "source": [
    "Parameter variable:\n",
    "\n",
    "omega, c1, c2, randmin, randmax (used in cal_next() in class particle)\n",
    "\n",
    "GBlocation : (x,y) , GBest : z for global best (x,y,z)\n",
    "\n",
    "n : number of particles"
   ]
  },
  {
   "cell_type": "code",
   "execution_count": 4,
   "metadata": {},
   "outputs": [],
   "source": [
    "omega = 1/2   #Inertia\n",
    "c1 = 1\n",
    "c2 = 1\n",
    "randMin = 0\n",
    "randMax = 1\n",
    "GBest = 0 # it will be inf for  minimizing and -inf for maximazing\n",
    "GBlocation = tuple\n",
    "\n",
    "n = 500\n"
   ]
  },
  {
   "cell_type": "markdown",
   "metadata": {},
   "source": [
    "currX : x(k)\n",
    "\n",
    "currV : v(k)\n",
    "\n",
    "extermum can be min or max\n",
    "\n",
    "cal_next_v:\n",
    "  \n",
    "    v(k) -> v(k+1)\n",
    "\n",
    "    x(k) -> x(k+1)\n",
    "\n",
    "    and update personal best\n",
    "\n",
    "\n",
    "inertia = omega * v(k)\n",
    "\n",
    "cognitive = c1 * rand * (Personal Best-x(k))\n",
    "\n",
    "social = c2 * rand * (Global Best-x(k))\n",
    "\n",
    "vi(k+1) = inertia + cognitive + social\n"
   ]
  },
  {
   "cell_type": "markdown",
   "metadata": {},
   "source": [
    "let the location be int. I'll try float too\n",
    "\n",
    "first self.currV is 0. we should try to keep currX in range ((maxX, minX), (maxY, minY)).usually personal & global best can't tend currX out of the range, but a radom currV can. So I prefer to use small currV in start, but I'll try other numbers.\n",
    "\n",
    "outOfRange: i used it for fixing parameters(see in readme)"
   ]
  },
  {
   "cell_type": "code",
   "execution_count": 5,
   "metadata": {},
   "outputs": [],
   "source": [
    "class particle:\n",
    "    def __init__(self,maxX,minX,maxY,minY,func,extermum) :\n",
    "        self.currX = (random.randint(minX,maxX), random.randint(minY, maxY))\n",
    "        self.currV = (0,0)\n",
    "        self.extermum = extermum\n",
    "        self.func = func\n",
    "        \n",
    "        self.minX = minX\n",
    "        self.maxX = maxX\n",
    "        self.minY = minY\n",
    "        self.maxY = maxY\n",
    "        \n",
    "        self.PBest = func(self.currX[0], self.currX[1])\n",
    "        self.PBestlocation = self.currX\n",
    "        \n",
    "    def cal_next(self):\n",
    "        rand1 = random.uniform(randMin, randMax)\n",
    "        rand2 = random.uniform(randMin, randMax)\n",
    "        \n",
    "        interia    = (omega*self.currV[0],omega*self.currV[1])\n",
    "        congnitive = c1*((self.PBestlocation[0]-self.currX[0])*rand1, (self.PBestlocation[1]-self.currX[1])*rand1 )\n",
    "        social     = c2*((GBlocation[0]        -self.currX[0])*rand2, (GBlocation[1]        -self.currX[1])*rand2 )\n",
    "        \n",
    "        self.currV =  ( interia[0]+congnitive[0]+social[0] , interia[1]+congnitive[1]+social[1] )\n",
    "        nextX  = (self.currX[0] + self.currV[0], self.currX[1] + self.currV[1])\n",
    "        if self.minX<=nextX[0] and nextX[0]<=self.maxX and self.minY<=nextX[1] and nextX[1]<=self.maxY :\n",
    "            self.currX = (self.currX[0] + self.currV[0], self.currX[1] + self.currV[1])\n",
    "            \n",
    "            \n",
    "            if self.extermum == \"min\" :\n",
    "                if self.func(self.currX[0], self.currX[1]) <= self.PBest :\n",
    "                    self.PBest = self.func(self.currX[0], self.currX[1])\n",
    "                    self.PBestlocation = self.currX\n",
    "            elif self.extermum == \"max\" :\n",
    "                if self.func(self.currX[0], self.currX[1]) >= self.PBest :\n",
    "                    self.PBest = self.func(self.currX[0], self.currX[1])\n",
    "                    self.PBestlocation = self.currX\n",
    "        "
   ]
  },
  {
   "cell_type": "markdown",
   "metadata": {},
   "source": [
    "visualize f"
   ]
  },
  {
   "cell_type": "code",
   "execution_count": 6,
   "metadata": {},
   "outputs": [
    {
     "data": {
      "image/png": "[encoded data removed]",
      "text/plain": [
       "<Figure size 432x288 with 1 Axes>"
      ]
     },
     "metadata": {
      "needs_background": "light"
     },
     "output_type": "display_data"
    }
   ],
   "source": [
    "continuous_visualizing(f,XYMaxF, XYMinF, XYMaxF, XYMinF)"
   ]
  },
  {
   "cell_type": "markdown",
   "metadata": {},
   "source": [
    "solving f:"
   ]
  },
  {
   "cell_type": "code",
   "execution_count": 7,
   "metadata": {},
   "outputs": [
    {
     "name": "stdout",
     "output_type": "stream",
     "text": [
      "19.207754835765368 2\n",
      "(8.04876100558586, -9.658672960898983)\n"
     ]
    }
   ],
   "source": [
    "GBest = -math.inf\n",
    "swarm = np.array([particle(XYMaxF,XYMinF,XYMaxF,XYMinF,f,\"max\") for _ in range(n)])\n",
    "i = 0\n",
    "while GBest<=19.2:\n",
    "    for p in swarm :\n",
    "        pass\n",
    "        if p.PBest > GBest:                              #I tried > too. there was no difference\n",
    "            GBest = p.PBest\n",
    "            GBlocation = p.PBestlocation\n",
    "    for p in swarm :\n",
    "        p.cal_next()\n",
    "\n",
    "    i+=1\n",
    "print(GBest,i)\n",
    "print(GBlocation)"
   ]
  },
  {
   "cell_type": "markdown",
   "metadata": {},
   "source": [
    "visualize g"
   ]
  },
  {
   "cell_type": "code",
   "execution_count": 8,
   "metadata": {},
   "outputs": [],
   "source": [
    "# continuous_visualizing(g,XYMaxG, XYMinG, XYMaxG, XYMinG)"
   ]
  },
  {
   "cell_type": "code",
   "execution_count": 9,
   "metadata": {},
   "outputs": [
    {
     "name": "stdout",
     "output_type": "stream",
     "text": [
      "-22.897880127273286 0\n",
      "-40.75695260524038 0\n",
      "-85.27344147305777 0\n",
      "-325.45297906285515 0\n",
      "-376.5126193587455 0\n",
      "-568.044283288566 1\n",
      "-1642.3519323725209 1\n",
      "-3598.4121523600666 1\n",
      "-5020.101458301629 2\n",
      "-6440.624829158789 2\n",
      "-11466.370977476392 2\n",
      "-57257.39629648294 3\n",
      "-68655.7604969388 8\n",
      "-94853.70576182155 10\n",
      "-146883.8918125811 10\n",
      "-170475.98987969317 12\n",
      "-440094.22720756015 12\n",
      "-680692.8275204002 13\n",
      "-1674980.0223948515 14\n",
      "-5293103.944313808 17\n",
      "-6930349.653272171 20\n",
      "-11834049.149374146 20\n",
      "-29442628.293095514 21\n",
      "-61967644.32768595 23\n",
      "-70773470.42129906 24\n",
      "-118536328.3368623 27\n",
      "-129751593.64349538 29\n",
      "-678572778.3263985 30\n",
      "-1725681627.7543929 33\n",
      "-3999908908.6247387 34\n",
      "-4024468720.6208553 42\n",
      "-4113659238.554319 46\n",
      "-4160497450.862621 53\n",
      "-4305860277.535926 58\n",
      "-4396948942.04881 59\n",
      "-4446031749.665523 59\n",
      "-4638350329.6536045 59\n",
      "-4748000544.599109 59\n",
      "-4869705527.335743 59\n",
      "-4871668827.885798 60\n",
      "-4895366184.815252 60\n",
      "-4960915197.895796 61\n",
      "-4961667698.384389 61\n",
      "-4961917617.891823 61\n",
      "-4979945117.087629 61\n",
      "-4991492538.872893 62\n",
      "-4993383039.354909 65\n",
      "-4994560828.653554 66\n",
      "-4995300739.976053 67\n",
      "-4995624149.348016 68\n",
      "-4995668142.026367 68\n",
      "-4996131375.674868 72\n",
      "-4996141125.88279 76\n",
      "-4996143279.904722 77\n",
      "-4996148851.39044 78\n",
      "-4996151183.557237 82\n",
      "-4996155218.731672 84\n",
      "-4996156448.269279 86\n",
      "-4996157362.477426 87\n",
      "-4996164145.326283 88\n",
      "-4996164228.699024 95\n",
      "-4996164275.658097 95\n",
      "-4996164283.270951 95\n",
      "-4996164351.206866 97\n",
      "-4996164362.700287 98\n",
      "-4996164369.999799 98\n",
      "-4996164370.035237 99\n",
      "-4996164370.132064 101\n",
      "-4996164370.700541 102\n",
      "-4996164370.773662 103\n",
      "-4996164370.778224 104\n",
      "-4996164370.785315 104\n",
      "-4996164370.796865 104\n",
      "-4996164370.797064 105\n",
      "-4996164370.797492 107\n",
      "-4996164370.797634 109\n",
      "-4996164370.797664 110\n",
      "-4996164370.797687 110\n",
      "-4996164370.797726 110\n",
      "-4996164370.797728 115\n",
      "=======================\n",
      "-4996164370.797728\n",
      "(30.393539867427496, -95.48412100941295)\n"
     ]
    }
   ],
   "source": [
    "GBest = math.inf\n",
    "swarm = np.array([particle(XYMaxG,XYMinG,XYMaxG,XYMinG,g,\"min\") for _ in range(n)])\n",
    "i = 0\n",
    "# import time\n",
    "# curr = time.perf_counter()\n",
    "while i<1000:\n",
    "    for p in swarm :\n",
    "        if p.PBest < GBest:                              #I tried > too. there was no difference\n",
    "            GBest = p.PBest\n",
    "            GBlocation = p.PBestlocation\n",
    "            # print(GBest,i, time.perf_counter()-curr)\n",
    "            print(GBest,i)\n",
    "            # point_visualizing(swarm, g, i)\n",
    "            \n",
    "    for p in swarm :\n",
    "        p.cal_next()\n",
    "\n",
    "    i+=1\n",
    "print(\"=======================\")\n",
    "print(GBest)\n",
    "print(GBlocation)"
   ]
  },
  {
   "cell_type": "markdown",
   "metadata": {},
   "source": [
    "create gif\n",
    "one time whole imgs are for f and other time are g"
   ]
  },
  {
   "cell_type": "code",
   "execution_count": 10,
   "metadata": {},
   "outputs": [],
   "source": [
    "# from PIL import Image\n",
    "# import glob\n",
    "\n",
    "# frames = []\n",
    "# imgs = glob.glob(\"*.png\")\n",
    "# for i in imgs:\n",
    "#     new_frame = Image.open(i)\n",
    "#     frames.append(new_frame)\n",
    "\n",
    "# frames[0].save('g-f.gif', format='GIF', append_images=frames[1:], save_all=True, duration=1000, loop=1)"
   ]
  },
  {
   "cell_type": "code",
   "execution_count": 11,
   "metadata": {},
   "outputs": [
    {
     "name": "stdout",
     "output_type": "stream",
     "text": [
      "30.39353986742749569316401903051882982254028320312500 -95.48412100941294511358137242496013641357421875000000\n"
     ]
    }
   ],
   "source": [
    "print ('%.50f'%GBlocation[0],'%.50f'%GBlocation[1])"
   ]
  }
 ],
 "metadata": {
  "interpreter": {
   "hash": "31f2aee4e71d21fbe5cf8b01ff0e069b9275f58929596ceb00d14d90e3e16cd6"
  },
  "kernelspec": {
   "display_name": "Python 3 (ipykernel)",
   "language": "python",
   "name": "python3"
  },
  "language_info": {
   "codemirror_mode": {
    "name": "ipython",
    "version": 3
   },
   "file_extension": ".py",
   "mimetype": "text/x-python",
   "name": "python",
   "nbconvert_exporter": "python",
   "pygments_lexer": "ipython3",
   "version": "3.8.10"
  }
 },
 "nbformat": 4,
 "nbformat_minor": 2
}
